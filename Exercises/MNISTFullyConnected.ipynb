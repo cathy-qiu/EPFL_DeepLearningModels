{
 "metadata": {
  "language_info": {
   "codemirror_mode": {
    "name": "ipython",
    "version": 3
   },
   "file_extension": ".py",
   "mimetype": "text/x-python",
   "name": "python",
   "nbconvert_exporter": "python",
   "pygments_lexer": "ipython3",
   "version": 3
  },
  "orig_nbformat": 2
 },
 "nbformat": 4,
 "nbformat_minor": 2,
 "cells": [
  {
   "cell_type": "code",
   "execution_count": null,
   "metadata": {},
   "outputs": [],
   "source": [
    "import tensorflow as tf\n",
    "from tensorflow.keras.untils import to_cateogrical"
   ]
  },
  {
   "cell_type": "code",
   "execution_count": null,
   "metadata": {},
   "outputs": [],
   "source": [
    "(x_train, y_train), _ = tf.keras.datasets.mnist.load_data()\n",
    "x_train = x_train.reshape(60000, 784).astype('float32')/255 #transforming the input from 2D to a 1D vector \n",
    "y_train = to_categorical(y_train, num_classes=10) #one-hot encoding\n",
    "\n",
    "#define the model\n",
    "model = tf.keras.Sequential()\n",
    "model.add(tf.keras.layers.Dense(10,activation='sigmoid', input_shape=(784,))) #adding layers\n",
    "model.add(tf.keras.layers.Dense(10,activation='softmax')) #adding layers\n",
    "\n",
    "#train the model\n",
    "model.compile(loss=\"categorical_crossentropy\", optimizer=\"sgd\", metrics = ['accuracy']) #learning method configured\n",
    "model.fit(x_train, y_train, epochs=10, verbose=0) #trains model\n"
   ]
  }
 ]
}